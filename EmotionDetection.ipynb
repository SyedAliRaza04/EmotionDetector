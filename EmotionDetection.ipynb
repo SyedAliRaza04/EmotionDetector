{
 "cells": [
  {
   "cell_type": "code",
   "execution_count": 156,
   "metadata": {},
   "outputs": [],
   "source": [
    "import numpy as np \n",
    "import pandas as pd \n",
    "import os\n",
    "import librosa\n",
    "import soundfile as sf\n",
    "import sklearn\n",
    "import seaborn as sns\n",
    "from sklearn.svm import SVC\n",
    "import matplotlib.pyplot as  plt\n",
    "from sklearn.metrics import accuracy_score"
   ]
  },
  {
   "cell_type": "code",
   "execution_count": 124,
   "metadata": {},
   "outputs": [
    {
     "data": {
      "text/plain": [
       "385"
      ]
     },
     "execution_count": 124,
     "metadata": {},
     "output_type": "execute_result"
    }
   ],
   "source": [
    "path_train = []\n",
    "for dirname, _, filenames in os.walk(\"C:/Users/Ali Raza/OneDrive/Desktop/SERDataset/Train\"):\n",
    "    for filename in filenames:\n",
    "        path_train.append(os.path.join(dirname,filename))\n",
    "                          \n",
    "len(path_train)"
   ]
  },
  {
   "cell_type": "code",
   "execution_count": 125,
   "metadata": {},
   "outputs": [
    {
     "data": {
      "text/plain": [
       "60"
      ]
     },
     "execution_count": 125,
     "metadata": {},
     "output_type": "execute_result"
    }
   ],
   "source": [
    "path_test = []\n",
    "for dirname, _, filenames in os.walk(\"C:/Users/Ali Raza/OneDrive/Desktop/SERDataset/Test\"):\n",
    "    for filename in filenames:\n",
    "        path_test.append(os.path.join(dirname,filename))\n",
    "                          \n",
    "len(path_test)    "
   ]
  },
  {
   "cell_type": "code",
   "execution_count": 126,
   "metadata": {},
   "outputs": [],
   "source": [
    "data_train = []\n",
    "sr_train = []\n",
    "data_test = []\n",
    "sr_test = []\n",
    "\n",
    "\n",
    "for i in range(len(path_train)):\n",
    "    data,sr= sf.read(path_train[i])\n",
    "    data_train.append(data)\n",
    "    sr_train.append(sr)\n",
    "\n",
    "for i in range(len(path_test)):\n",
    "    data,sr= sf.read(path_test[i])\n",
    "    data_test.append(data)\n",
    "    sr_test.append(sr)\n"
   ]
  },
  {
   "cell_type": "code",
   "execution_count": 127,
   "metadata": {},
   "outputs": [
    {
     "data": {
      "text/plain": [
       "(60, 47)"
      ]
     },
     "execution_count": 127,
     "metadata": {},
     "output_type": "execute_result"
    }
   ],
   "source": [
    "mfcc_train = []\n",
    "mfcc_test = []\n",
    "for i in range(len(data_train)):\n",
    "    mfcc_train.append(np.mean(librosa.feature.mfcc(y=data_train[i], sr=sr_train[i], n_mfcc=47), axis=1))\n",
    "mfcc_train = np.array(mfcc_train)\n",
    "mfcc_train.shape\n",
    "\n",
    "for i in range(len(data_test)):\n",
    "    mfcc_test.append(np.mean(librosa.feature.mfcc(y=data_test[i], sr=sr_test[i], n_mfcc=47), axis=1))\n",
    "\n",
    "mfcc_test = np.array(mfcc_test)\n",
    "mfcc_test.shape"
   ]
  },
  {
   "cell_type": "code",
   "execution_count": 128,
   "metadata": {},
   "outputs": [
    {
     "data": {
      "text/plain": [
       "(60, 12)"
      ]
     },
     "execution_count": 128,
     "metadata": {},
     "output_type": "execute_result"
    }
   ],
   "source": [
    "chroma_train = []\n",
    "chroma_test = []\n",
    "\n",
    "for i in range(len(data_train)):\n",
    "    chroma_train.append(np.mean(librosa.feature.chroma_stft(data_train[i], sr_train[i]),axis=1))\n",
    "chroma_train = np.array(chroma_train)\n",
    "chroma_train.shape\n",
    "\n",
    "for i in range(len(data_test)):\n",
    "    chroma_test.append(np.mean(librosa.feature.chroma_stft(data_test[i], sr_test[i]),axis=1))\n",
    "chroma_test = np.array(chroma_test)\n",
    "chroma_test.shape"
   ]
  },
  {
   "cell_type": "code",
   "execution_count": 129,
   "metadata": {},
   "outputs": [
    {
     "data": {
      "text/plain": [
       "(385, 128)"
      ]
     },
     "execution_count": 129,
     "metadata": {},
     "output_type": "execute_result"
    }
   ],
   "source": [
    "mel_train = []\n",
    "mel_test = []\n",
    "\n",
    "for i in range(len(data_train)):\n",
    "    mel_train.append(np.mean(librosa.feature.melspectrogram(data_train[i],  sr_train[i]), axis = 1))\n",
    "mel_train = np.array(mel_train)\n",
    "\n",
    "\n",
    "for i in range(len(data_test)):\n",
    "    mel_test.append(np.mean(librosa.feature.melspectrogram(data_test[i],  sr_test[i]), axis = 1))\n",
    "mel_test = np.array(mel_test)\n",
    "mel_test.shape\n",
    "mel_train.shape"
   ]
  },
  {
   "cell_type": "code",
   "execution_count": 130,
   "metadata": {},
   "outputs": [
    {
     "data": {
      "text/plain": [
       "(385, 7)"
      ]
     },
     "execution_count": 130,
     "metadata": {},
     "output_type": "execute_result"
    }
   ],
   "source": [
    "contrast_train = []\n",
    "contrast_test = []\n",
    "\n",
    "for i in range(len(data_train)):\n",
    "    contrast_train.append(np.mean(librosa.feature.spectral_contrast(data_train[i],  sr_train[i]), axis = 1))\n",
    "contrast_train = np.array(contrast_train)\n",
    "\n",
    "for i in range(len(data_test)):\n",
    "    contrast_test.append(np.mean(librosa.feature.spectral_contrast(data_test[i],  sr_test[i]), axis = 1))\n",
    "contrast_test = np.array(contrast_test)\n",
    "contrast_test.shape\n",
    "contrast_train.shape"
   ]
  },
  {
   "cell_type": "code",
   "execution_count": 131,
   "metadata": {},
   "outputs": [
    {
     "name": "stderr",
     "output_type": "stream",
     "text": [
      "C:\\Users\\Ali Raza\\anaconda3\\lib\\site-packages\\librosa\\core\\spectrum.py:222: UserWarning: n_fft=1024 is too small for input signal of length=690\n",
      "  warnings.warn(\n",
      "C:\\Users\\Ali Raza\\anaconda3\\lib\\site-packages\\librosa\\core\\spectrum.py:222: UserWarning: n_fft=1024 is too small for input signal of length=684\n",
      "  warnings.warn(\n",
      "C:\\Users\\Ali Raza\\anaconda3\\lib\\site-packages\\librosa\\core\\spectrum.py:222: UserWarning: n_fft=1024 is too small for input signal of length=342\n",
      "  warnings.warn(\n"
     ]
    },
    {
     "data": {
      "text/plain": [
       "(385, 6)"
      ]
     },
     "execution_count": 131,
     "metadata": {},
     "output_type": "execute_result"
    }
   ],
   "source": [
    "tonnetz_train = []\n",
    "tonnetz_test = []\n",
    "\n",
    "for i in range(len(data_train)):\n",
    "    tonnetz_train.append(np.mean(librosa.feature.tonnetz(data_train[i], sr_train[i]), axis = 1))\n",
    "tonnetz_train = np.array(tonnetz_train)\n",
    "\n",
    "for i in range(len(data_test)):\n",
    "    tonnetz_test.append(np.mean(librosa.feature.tonnetz(data_test[i], sr_test[i]), axis = 1))\n",
    "tonnetz_test = np.array(tonnetz_test)\n",
    "\n",
    "tonnetz_train.shape"
   ]
  },
  {
   "cell_type": "code",
   "execution_count": 132,
   "metadata": {},
   "outputs": [
    {
     "data": {
      "text/plain": [
       "(60, 200)"
      ]
     },
     "execution_count": 132,
     "metadata": {},
     "output_type": "execute_result"
    }
   ],
   "source": [
    "x_test = []\n",
    "x_train =[]\n",
    "\n",
    "for i in range(len(data_train)):\n",
    "    x_train.append(np.hstack((mfcc_train[i], chroma_train[i], mel_train[i], contrast_train[i], tonnetz_train[i])))\n",
    "x_train = np.array(x_train)\n",
    "\n",
    "\n",
    "for i in range(len(data_test)):\n",
    "    x_test.append(np.hstack((mfcc_test[i], chroma_test[i], mel_test[i], contrast_test[i], tonnetz_test[i])))\n",
    "x_test = np.array(x_test)\n",
    "\n",
    "x_train.shape\n",
    "x_test.shape"
   ]
  },
  {
   "cell_type": "code",
   "execution_count": 133,
   "metadata": {},
   "outputs": [
    {
     "data": {
      "text/plain": [
       "60"
      ]
     },
     "execution_count": 133,
     "metadata": {},
     "output_type": "execute_result"
    }
   ],
   "source": [
    "y_train = []\n",
    "y_test = []\n",
    "\n",
    "for i in range(len(path_train)):\n",
    "    if('Angry' in path_train[i]):\n",
    "        y_train.append('Angry')\n",
    "    elif('Happy' in path_train[i]):\n",
    "        y_train.append('Happy')\n",
    "    elif('Sad' in path_train[i]):\n",
    "        y_train.append('Sad')\n",
    "    elif('Neutral' in path_train[i]):\n",
    "        y_train.append('Neutral')\n",
    "        \n",
    "for i in range(len(path_test)):\n",
    "    if('Angry' in path_test[i]):\n",
    "        y_test.append('Angry')\n",
    "    elif('Happy' in path_test[i]):\n",
    "        y_test.append('Happy')\n",
    "    elif('Sad' in path_test[i]):\n",
    "        y_test.append('Sad')\n",
    "    elif('Neural' in path_test[i]):\n",
    "        y_test.append('Neutral')\n",
    "        \n",
    "len(y_train)\n",
    "len(y_test)"
   ]
  },
  {
   "cell_type": "code",
   "execution_count": 134,
   "metadata": {},
   "outputs": [
    {
     "name": "stdout",
     "output_type": "stream",
     "text": [
      "[0 0 0 0 0 0 0 0 0 0 0 0 0 0 0 1 1 1 1 1 1 1 1 1 1 1 1 1 1 1 2 2 2 2 2 2 2\n",
      " 2 2 2 2 2 2 2 2 3 3 3 3 3 3 3 3 3 3 3 3 3 3 3]\n"
     ]
    },
    {
     "data": {
      "text/plain": [
       "(385, 200)"
      ]
     },
     "execution_count": 134,
     "metadata": {},
     "output_type": "execute_result"
    }
   ],
   "source": [
    "le = sklearn.preprocessing.LabelEncoder()\n",
    "le.fit(y_train)\n",
    "encoded_Train = le.transform(y_train)\n",
    "encoded_Test = le.transform(y_test)\n",
    "\n",
    "\n",
    "model = SVC(kernel='linear', C=1E10)\n",
    "model.fit(x_train, encoded_Train) \n",
    "prediction = model.predict(x_test)\n",
    "print (prediction)\n",
    "\n",
    "x_train.shape"
   ]
  },
  {
   "cell_type": "code",
   "execution_count": 135,
   "metadata": {},
   "outputs": [
    {
     "data": {
      "text/plain": [
       "1.0"
      ]
     },
     "execution_count": 135,
     "metadata": {},
     "output_type": "execute_result"
    }
   ],
   "source": [
    "accuracy_score(encoded_Test, prediction)"
   ]
  },
  {
   "cell_type": "code",
   "execution_count": 161,
   "metadata": {},
   "outputs": [
    {
     "data": {
      "text/plain": [
       "Text(0, 0.5, 'second half')"
      ]
     },
     "execution_count": 161,
     "metadata": {},
     "output_type": "execute_result"
    },
    {
     "data": {
      "image/png": "[encoded data removed]",
      "text/plain": [
       "<Figure size 432x288 with 1 Axes>"
      ]
     },
     "metadata": {
      "needs_background": "light"
     },
     "output_type": "display_data"
    }
   ],
   "source": [
    "x_train = pd.DataFrame(x_train)\n",
    "f_half = []\n",
    "s_half = []\n",
    "\n",
    "half = x_train.shape[1]//2\n",
    "f_half = x_train.iloc[:,:half]\n",
    "f_half = f_half[:].mean(axis=1)\n",
    "\n",
    "s_half = x_train.iloc[:,half:]\n",
    "s_half = s_half[:].mean(axis=1)\n",
    "\n",
    "sns.scatterplot(f_half, s_half, y_train)\n",
    "plt.xlabel('first half')\n",
    "plt.ylabel('second half')"
   ]
  },
  {
   "cell_type": "code",
   "execution_count": 155,
   "metadata": {},
   "outputs": [
    {
     "name": "stdout",
     "output_type": "stream",
     "text": [
      "Sad\n"
     ]
    }
   ],
   "source": [
    "S1 = 'C:/Users/Ali Raza/OneDrive/Desktop/SERDataset/Test/Sad/SM25_F34_S084.wav'\n",
    "mf = []\n",
    "ch = []\n",
    "m = []\n",
    "c = []\n",
    "t = []\n",
    "test = np.array([])\n",
    "predict = []\n",
    "\n",
    "data,sr= sf.read(S1)\n",
    "mf = np.mean(librosa.feature.mfcc(data, sr, n_mfcc=47), axis=1)\n",
    "ch = np.mean(librosa.feature.chroma_stft(data, sr),axis=1)\n",
    "m = np.mean(librosa.feature.melspectrogram(data,  sr), axis = 1)\n",
    "c = np.mean(librosa.feature.spectral_contrast(data,  sr), axis = 1)\n",
    "t = np.mean(librosa.feature.tonnetz(data, sr), axis = 1)\n",
    "test = np.hstack((mf, ch, m, c, t))\n",
    "A = model.predict(test.reshape(1,-1))\n",
    "\n",
    "for i in range(len(y_test)):\n",
    "    if A[0] == encoded_Test[i]:\n",
    "        print(y_test[i])\n",
    "        break\n"
   ]
  },
  {
   "cell_type": "code",
   "execution_count": null,
   "metadata": {},
   "outputs": [],
   "source": []
  }
 ],
 "metadata": {
  "kernelspec": {
   "display_name": "Python 3",
   "language": "python",
   "name": "python3"
  },
  "language_info": {
   "codemirror_mode": {
    "name": "ipython",
    "version": 3
   },
   "file_extension": ".py",
   "mimetype": "text/x-python",
   "name": "python",
   "nbconvert_exporter": "python",
   "pygments_lexer": "ipython3",
   "version": "3.8.3"
  }
 },
 "nbformat": 4,
 "nbformat_minor": 4
}
